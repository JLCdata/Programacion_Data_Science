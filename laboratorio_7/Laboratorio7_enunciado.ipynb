{
 "cells": [
  {
   "cell_type": "markdown",
   "metadata": {
    "cell_id": "00000-73f3e32f-2ef2-4c8f-8a16-d0512209e3ca",
    "deepnote_cell_type": "markdown",
    "id": "XUZ1dFPHzAHl"
   },
   "source": [
    "<h1><center>Laboratorio 7: Aprendizaje Supervisado 🔮</center></h1>\n",
    "\n",
    "<center><strong>MDS7202: Laboratorio de Programación Científica para Ciencia de Datos</strong></center>"
   ]
  },
  {
   "cell_type": "markdown",
   "metadata": {
    "cell_id": "00001-f0f6f193-27cb-4e14-8eb4-8192d12f7721",
    "deepnote_cell_type": "markdown",
    "id": "UD8X1uhGzAHq"
   },
   "source": [
    "### Cuerpo Docente:\n",
    "\n",
    "- Profesor: Pablo Badilla\n",
    "- Auxiliar: Ignacio Meza D.\n",
    "- Ayudante: Constanza Peña"
   ]
  },
  {
   "cell_type": "markdown",
   "metadata": {
    "cell_id": "00002-cbc359e4-c6bf-4a18-b935-8b000e48c13d",
    "deepnote_cell_type": "markdown",
    "id": "tXflExjqzAHr"
   },
   "source": [
    "### Equipo: SUPER IMPORTANTE - notebooks sin nombre no serán revisados\n",
    "\n",
    "- Nombre de alumno: José Luis Cádiz Sejas\n",
    "\n"
   ]
  },
  {
   "cell_type": "markdown",
   "metadata": {
    "cell_id": "00003-50e2b812-e515-42a0-b713-6dbfaa83c601",
    "deepnote_cell_type": "markdown",
    "id": "AD-V0bbZzAHr"
   },
   "source": [
    "### **Link de repositorio de GitHub:** `https://github.com/JLCdata/Programacion_Data_Science`"
   ]
  },
  {
   "cell_type": "markdown",
   "metadata": {
    "cell_id": "00005-119cf881-89af-4ccc-8bf7-2763d5eb0785",
    "deepnote_cell_type": "markdown",
    "id": "6uBLPj1PzAHs"
   },
   "source": [
    "## Temas a tratar\n",
    "\n",
    "- Aprendizaje Supervisado\n",
    "- Flujos de datos a través de `Pipelines`.\n",
    "\n",
    "## Reglas\n",
    "\n",
    "- Fecha de entrega: TBD\n",
    "- **Grupos de 2 personas**\n",
    "- **Ausentes** deberán realizar la actividad solos. \n",
    "- Cualquier duda fuera del horario de clases al foro. Mensajes al equipo docente serán respondidos por este medio.\n",
    "- Prohibidas las copias. \n",
    "- Pueden usar cualquer matrial del curso que estimen conveniente.\n",
    "\n",
    "## Objetivos principales del laboratorio\n",
    "\n",
    "- Comprender el funcionamiento de clasificadores/regresores.\n",
    "- Generar múltiples modelos predictivos.\n",
    "- Comprender las ventajas de crear modelos en pipeline vs hacer las operaciones a mano.\n",
    "\n",
    "El laboratorio deberá ser desarrollado sin el uso indiscriminado de iteradores nativos de python (aka \"for\", \"while\"). La idea es que aprendan a exprimir al máximo las funciones optimizadas que nos entrega `pandas`, las cuales vale mencionar, son bastante más eficientes que los iteradores nativos sobre `DataFrames`."
   ]
  },
  {
   "cell_type": "markdown",
   "metadata": {
    "cell_id": "00006-d1bce751-1f1d-4470-8cbb-a77ba271ef39",
    "deepnote_cell_type": "markdown",
    "id": "MhISwri4zAHy"
   },
   "source": [
    "#Importamos librerias utiles 😸"
   ]
  },
  {
   "cell_type": "code",
   "execution_count": 1,
   "metadata": {
    "ExecuteTime": {
     "end_time": "2021-03-29T00:08:16.884674Z",
     "start_time": "2021-03-29T00:08:16.349846Z"
    },
    "cell_id": "00007-e1ebdc56-4008-489c-85bc-b1ffb9cbbced",
    "colab": {
     "base_uri": "https://localhost:8080/"
    },
    "deepnote_cell_type": "code",
    "deepnote_to_be_reexecuted": false,
    "execution_millis": 7630,
    "execution_start": 1636741163382,
    "id": "uyc33dKdzAHy",
    "outputId": "e8cc251c-aa25-4fdb-db15-3027707cfbdf",
    "source_hash": "cb3614e"
   },
   "outputs": [],
   "source": [
    "# Libreria Core del lab.\n",
    "import numpy as np\n",
    "import pandas as pd\n",
    "from sklearn.pipeline import Pipeline\n",
    "from sklearn.compose import ColumnTransformer\n",
    "from sklearn.model_selection import train_test_split \n",
    "\n",
    "# Pre-procesamiento\n",
    "from sklearn.preprocessing import MinMaxScaler\n",
    "from sklearn.preprocessing import StandardScaler\n",
    "from sklearn.preprocessing import FunctionTransformer\n",
    "from sklearn.preprocessing import PowerTransformer\n",
    "from sklearn.preprocessing import OneHotEncoder\n",
    "from sklearn.tree import DecisionTreeClassifier\n",
    "from sklearn.svm import SVC\n",
    "from sklearn.neighbors import KNeighborsClassifier\n",
    "from sklearn.linear_model import LinearRegression\n",
    "from sklearn.ensemble import RandomForestRegressor\n",
    "\n",
    "# Metricas de evaluación\n",
    "from sklearn.metrics import classification_report\n",
    "from sklearn.metrics import accuracy_score\n",
    "from sklearn.metrics import f1_score\n",
    "from sklearn.metrics import cohen_kappa_score\n",
    "from sklearn.metrics import r2_score\n",
    "\n",
    "#Libreria para plotear\n",
    "#!pip install --upgrade plotly\n",
    "import plotly.express as px\n",
    "from plotly.subplots import make_subplots\n",
    "import plotly.graph_objects as go\n",
    "import seaborn as sns\n",
    "\n",
    "# Ignore warnings\n",
    "import warnings\n",
    "warnings.filterwarnings('ignore')\n",
    "\n",
    "# UMAP\n",
    "#!pip install umap-learn"
   ]
  },
  {
   "cell_type": "markdown",
   "metadata": {
    "cell_id": "00008-7877e530-5ed5-483e-af0a-4fd26434d7dc",
    "deepnote_cell_type": "markdown",
    "id": "5FTGE74b3FBU"
   },
   "source": [
    "https://www.kaggle.com/antoinekrajnc/soccer-players-statistics"
   ]
  },
  {
   "cell_type": "markdown",
   "metadata": {
    "cell_id": "00009-2d8a21b8-a5ac-41ee-9a17-15c179c9b666",
    "deepnote_cell_type": "markdown",
    "id": "xpOTbQcxbSiy"
   },
   "source": [
    "# 1. Predicciones Futboleras\n",
    "\n",
    "<p align=\"center\">\n",
    "  <img src=\"https://drive.google.com/uc?export=view&id=1BnO4tyh3vM2P199Ec9s3JjngQ4qQ9seP\"\n",
    "\" width=\"300\">\n",
    "</p>\n",
    "\n",
    "\n",
    "Tras el trágico despido de la mítica mascota de Maipú, Renacín decide adentrarse como consultor en el mercado futbolero, el cuál (para variar...) está cargado en especulaciones. \n",
    "\n",
    "Como su principal tarea será asesorar a los directivos de los clubes sobre cuál jugador comprar y cuál no, Renacín desea generar modelos predictivos que evaluén distintas características de los jugadores; todo con el fin de tomar decisiones concretas basadas en los datos.\n",
    "\n",
    "Sin embargo, su condición de corporeo le impidió tomar la versión anterior de MDS7202, por lo que este motivo Renacín contrata a su equipo para lograr su objetivo final. Dado que aún tiene fuertes vínculos con la dirección de deportes de la municipalidad, el corporeo le entrega base de datos con las estadísticas de cada jugador para que su equipo empieze a trabajar ya con un dataset listo para ser usado.\n"
   ]
  },
  {
   "cell_type": "markdown",
   "metadata": {
    "cell_id": "00010-6b2847d4-5b92-44b7-9ce0-c6b6779ac157",
    "deepnote_cell_type": "markdown",
    "id": "jnmZfFpxTTYX"
   },
   "source": [
    "**Los Datos**\n",
    "\n",
    "Para este laboratorio deberán trabajar con los csv `statsplayers.csv` y `salarios.pickle`, donde deberán aplicar algoritmos de de aprendizaje supervisado (clasificación y regresión) en base a características que describen de jugadores de futbol.\n",
    "\n",
    "Para comenzar cargue el dataset señalado y a continuación vea el reporte **`Player_Stats_Report.html`** (adjunto en la carpeta del enunciado) que describe las características principales del `DataFrame`."
   ]
  },
  {
   "cell_type": "code",
   "execution_count": 2,
   "metadata": {
    "cell_id": "00012-64bcb839-4478-423e-9bd1-cdb81eefc97e",
    "colab": {
     "base_uri": "https://localhost:8080/",
     "height": 309
    },
    "deepnote_cell_type": "code",
    "deepnote_to_be_reexecuted": false,
    "execution_millis": 184,
    "execution_start": 1636742947300,
    "id": "bED3w3tDbSCf",
    "outputId": "8961b413-9ab2-4d57-8d77-648860771520",
    "scrolled": true,
    "source_hash": "65944a94"
   },
   "outputs": [
    {
     "data": {
      "text/html": [
       "<div>\n",
       "<style scoped>\n",
       "    .dataframe tbody tr th:only-of-type {\n",
       "        vertical-align: middle;\n",
       "    }\n",
       "\n",
       "    .dataframe tbody tr th {\n",
       "        vertical-align: top;\n",
       "    }\n",
       "\n",
       "    .dataframe thead th {\n",
       "        text-align: right;\n",
       "    }\n",
       "</style>\n",
       "<table border=\"1\" class=\"dataframe\">\n",
       "  <thead>\n",
       "    <tr style=\"text-align: right;\">\n",
       "      <th></th>\n",
       "      <th>Name</th>\n",
       "      <th>Nationality</th>\n",
       "      <th>National_Position</th>\n",
       "      <th>Club_Position</th>\n",
       "      <th>Height</th>\n",
       "      <th>Weight</th>\n",
       "      <th>Preffered_Foot</th>\n",
       "      <th>Age</th>\n",
       "      <th>Work_Rate</th>\n",
       "      <th>Weak_foot</th>\n",
       "      <th>...</th>\n",
       "      <th>Agility</th>\n",
       "      <th>Jumping</th>\n",
       "      <th>Heading</th>\n",
       "      <th>Shot_Power</th>\n",
       "      <th>Finishing</th>\n",
       "      <th>Long_Shots</th>\n",
       "      <th>Curve</th>\n",
       "      <th>Freekick_Accuracy</th>\n",
       "      <th>Penalties</th>\n",
       "      <th>Volleys</th>\n",
       "    </tr>\n",
       "  </thead>\n",
       "  <tbody>\n",
       "    <tr>\n",
       "      <th>0</th>\n",
       "      <td>Cristiano Ronaldo</td>\n",
       "      <td>Portugal</td>\n",
       "      <td>LS</td>\n",
       "      <td>LW</td>\n",
       "      <td>185</td>\n",
       "      <td>80</td>\n",
       "      <td>Right</td>\n",
       "      <td>32</td>\n",
       "      <td>High / Low</td>\n",
       "      <td>4</td>\n",
       "      <td>...</td>\n",
       "      <td>90</td>\n",
       "      <td>95</td>\n",
       "      <td>85</td>\n",
       "      <td>92</td>\n",
       "      <td>93</td>\n",
       "      <td>90</td>\n",
       "      <td>81</td>\n",
       "      <td>76</td>\n",
       "      <td>85</td>\n",
       "      <td>88</td>\n",
       "    </tr>\n",
       "    <tr>\n",
       "      <th>1</th>\n",
       "      <td>Lionel Messi</td>\n",
       "      <td>Argentina</td>\n",
       "      <td>RW</td>\n",
       "      <td>RW</td>\n",
       "      <td>170</td>\n",
       "      <td>72</td>\n",
       "      <td>Left</td>\n",
       "      <td>29</td>\n",
       "      <td>Medium / Medium</td>\n",
       "      <td>4</td>\n",
       "      <td>...</td>\n",
       "      <td>90</td>\n",
       "      <td>68</td>\n",
       "      <td>71</td>\n",
       "      <td>85</td>\n",
       "      <td>95</td>\n",
       "      <td>88</td>\n",
       "      <td>89</td>\n",
       "      <td>90</td>\n",
       "      <td>74</td>\n",
       "      <td>85</td>\n",
       "    </tr>\n",
       "    <tr>\n",
       "      <th>2</th>\n",
       "      <td>Neymar</td>\n",
       "      <td>Brazil</td>\n",
       "      <td>LW</td>\n",
       "      <td>LW</td>\n",
       "      <td>174</td>\n",
       "      <td>68</td>\n",
       "      <td>Right</td>\n",
       "      <td>25</td>\n",
       "      <td>High / Medium</td>\n",
       "      <td>5</td>\n",
       "      <td>...</td>\n",
       "      <td>96</td>\n",
       "      <td>61</td>\n",
       "      <td>62</td>\n",
       "      <td>78</td>\n",
       "      <td>89</td>\n",
       "      <td>77</td>\n",
       "      <td>79</td>\n",
       "      <td>84</td>\n",
       "      <td>81</td>\n",
       "      <td>83</td>\n",
       "    </tr>\n",
       "    <tr>\n",
       "      <th>3</th>\n",
       "      <td>Luis Suárez</td>\n",
       "      <td>Uruguay</td>\n",
       "      <td>LS</td>\n",
       "      <td>ST</td>\n",
       "      <td>182</td>\n",
       "      <td>85</td>\n",
       "      <td>Right</td>\n",
       "      <td>30</td>\n",
       "      <td>High / Medium</td>\n",
       "      <td>4</td>\n",
       "      <td>...</td>\n",
       "      <td>86</td>\n",
       "      <td>69</td>\n",
       "      <td>77</td>\n",
       "      <td>87</td>\n",
       "      <td>94</td>\n",
       "      <td>86</td>\n",
       "      <td>86</td>\n",
       "      <td>84</td>\n",
       "      <td>85</td>\n",
       "      <td>88</td>\n",
       "    </tr>\n",
       "    <tr>\n",
       "      <th>4</th>\n",
       "      <td>Manuel Neuer</td>\n",
       "      <td>Germany</td>\n",
       "      <td>GK</td>\n",
       "      <td>GK</td>\n",
       "      <td>193</td>\n",
       "      <td>92</td>\n",
       "      <td>Right</td>\n",
       "      <td>31</td>\n",
       "      <td>Medium / Medium</td>\n",
       "      <td>4</td>\n",
       "      <td>...</td>\n",
       "      <td>52</td>\n",
       "      <td>78</td>\n",
       "      <td>25</td>\n",
       "      <td>25</td>\n",
       "      <td>13</td>\n",
       "      <td>16</td>\n",
       "      <td>14</td>\n",
       "      <td>11</td>\n",
       "      <td>47</td>\n",
       "      <td>11</td>\n",
       "    </tr>\n",
       "  </tbody>\n",
       "</table>\n",
       "<p>5 rows × 39 columns</p>\n",
       "</div>"
      ],
      "text/plain": [
       "                Name Nationality National_Position Club_Position  Height  \\\n",
       "0  Cristiano Ronaldo    Portugal                LS            LW     185   \n",
       "1       Lionel Messi   Argentina                RW            RW     170   \n",
       "2             Neymar      Brazil                LW            LW     174   \n",
       "3        Luis Suárez     Uruguay                LS            ST     182   \n",
       "4       Manuel Neuer     Germany                GK            GK     193   \n",
       "\n",
       "   Weight Preffered_Foot  Age        Work_Rate  Weak_foot  ...  Agility  \\\n",
       "0      80          Right   32       High / Low          4  ...       90   \n",
       "1      72           Left   29  Medium / Medium          4  ...       90   \n",
       "2      68          Right   25    High / Medium          5  ...       96   \n",
       "3      85          Right   30    High / Medium          4  ...       86   \n",
       "4      92          Right   31  Medium / Medium          4  ...       52   \n",
       "\n",
       "   Jumping  Heading  Shot_Power  Finishing  Long_Shots  Curve  \\\n",
       "0       95       85          92         93          90     81   \n",
       "1       68       71          85         95          88     89   \n",
       "2       61       62          78         89          77     79   \n",
       "3       69       77          87         94          86     86   \n",
       "4       78       25          25         13          16     14   \n",
       "\n",
       "   Freekick_Accuracy  Penalties  Volleys  \n",
       "0                 76         85       88  \n",
       "1                 90         74       85  \n",
       "2                 84         81       83  \n",
       "3                 84         85       88  \n",
       "4                 11         47       11  \n",
       "\n",
       "[5 rows x 39 columns]"
      ]
     },
     "execution_count": 2,
     "metadata": {},
     "output_type": "execute_result"
    }
   ],
   "source": [
    "df_players = pd.read_csv('stats_players.csv')\n",
    "df_players.head()"
   ]
  },
  {
   "cell_type": "code",
   "execution_count": 3,
   "metadata": {},
   "outputs": [
    {
     "data": {
      "text/plain": [
       "(17588, 39)"
      ]
     },
     "execution_count": 3,
     "metadata": {},
     "output_type": "execute_result"
    }
   ],
   "source": [
    "# Shape\n",
    "df_players.shape"
   ]
  },
  {
   "cell_type": "code",
   "execution_count": 4,
   "metadata": {},
   "outputs": [
    {
     "name": "stdout",
     "output_type": "stream",
     "text": [
      "<class 'pandas.core.frame.DataFrame'>\n",
      "RangeIndex: 17588 entries, 0 to 17587\n",
      "Data columns (total 39 columns):\n",
      " #   Column             Non-Null Count  Dtype \n",
      "---  ------             --------------  ----- \n",
      " 0   Name               17588 non-null  object\n",
      " 1   Nationality        17588 non-null  object\n",
      " 2   National_Position  1075 non-null   object\n",
      " 3   Club_Position      17587 non-null  object\n",
      " 4   Height             17588 non-null  int64 \n",
      " 5   Weight             17588 non-null  int64 \n",
      " 6   Preffered_Foot     17588 non-null  object\n",
      " 7   Age                17588 non-null  int64 \n",
      " 8   Work_Rate          17588 non-null  object\n",
      " 9   Weak_foot          17588 non-null  int64 \n",
      " 10  Skill_Moves        17588 non-null  int64 \n",
      " 11  Ball_Control       17588 non-null  int64 \n",
      " 12  Dribbling          17588 non-null  int64 \n",
      " 13  Marking            17588 non-null  int64 \n",
      " 14  Sliding_Tackle     17588 non-null  int64 \n",
      " 15  Standing_Tackle    17588 non-null  int64 \n",
      " 16  Aggression         17588 non-null  int64 \n",
      " 17  Reactions          17588 non-null  int64 \n",
      " 18  Interceptions      17588 non-null  int64 \n",
      " 19  Vision             17588 non-null  int64 \n",
      " 20  Composure          17588 non-null  int64 \n",
      " 21  Crossing           17588 non-null  int64 \n",
      " 22  Short_Pass         17588 non-null  int64 \n",
      " 23  Long_Pass          17588 non-null  int64 \n",
      " 24  Acceleration       17588 non-null  int64 \n",
      " 25  Speed              17588 non-null  int64 \n",
      " 26  Stamina            17588 non-null  int64 \n",
      " 27  Strength           17588 non-null  int64 \n",
      " 28  Balance            17588 non-null  int64 \n",
      " 29  Agility            17588 non-null  int64 \n",
      " 30  Jumping            17588 non-null  int64 \n",
      " 31  Heading            17588 non-null  int64 \n",
      " 32  Shot_Power         17588 non-null  int64 \n",
      " 33  Finishing          17588 non-null  int64 \n",
      " 34  Long_Shots         17588 non-null  int64 \n",
      " 35  Curve              17588 non-null  int64 \n",
      " 36  Freekick_Accuracy  17588 non-null  int64 \n",
      " 37  Penalties          17588 non-null  int64 \n",
      " 38  Volleys            17588 non-null  int64 \n",
      "dtypes: int64(33), object(6)\n",
      "memory usage: 5.2+ MB\n"
     ]
    }
   ],
   "source": [
    "# Info\n",
    "df_players.info()"
   ]
  },
  {
   "cell_type": "code",
   "execution_count": 5,
   "metadata": {
    "scrolled": false
   },
   "outputs": [
    {
     "data": {
      "text/html": [
       "<div>\n",
       "<style scoped>\n",
       "    .dataframe tbody tr th:only-of-type {\n",
       "        vertical-align: middle;\n",
       "    }\n",
       "\n",
       "    .dataframe tbody tr th {\n",
       "        vertical-align: top;\n",
       "    }\n",
       "\n",
       "    .dataframe thead th {\n",
       "        text-align: right;\n",
       "    }\n",
       "</style>\n",
       "<table border=\"1\" class=\"dataframe\">\n",
       "  <thead>\n",
       "    <tr style=\"text-align: right;\">\n",
       "      <th></th>\n",
       "      <th>Height</th>\n",
       "      <th>Weight</th>\n",
       "      <th>Age</th>\n",
       "      <th>Weak_foot</th>\n",
       "      <th>Skill_Moves</th>\n",
       "      <th>Ball_Control</th>\n",
       "      <th>Dribbling</th>\n",
       "      <th>Marking</th>\n",
       "      <th>Sliding_Tackle</th>\n",
       "      <th>Standing_Tackle</th>\n",
       "      <th>...</th>\n",
       "      <th>Agility</th>\n",
       "      <th>Jumping</th>\n",
       "      <th>Heading</th>\n",
       "      <th>Shot_Power</th>\n",
       "      <th>Finishing</th>\n",
       "      <th>Long_Shots</th>\n",
       "      <th>Curve</th>\n",
       "      <th>Freekick_Accuracy</th>\n",
       "      <th>Penalties</th>\n",
       "      <th>Volleys</th>\n",
       "    </tr>\n",
       "  </thead>\n",
       "  <tbody>\n",
       "    <tr>\n",
       "      <th>count</th>\n",
       "      <td>17588.00000</td>\n",
       "      <td>17588.000000</td>\n",
       "      <td>17588.000000</td>\n",
       "      <td>17588.000000</td>\n",
       "      <td>17588.000000</td>\n",
       "      <td>17588.000000</td>\n",
       "      <td>17588.000000</td>\n",
       "      <td>17588.000000</td>\n",
       "      <td>17588.000000</td>\n",
       "      <td>17588.000000</td>\n",
       "      <td>...</td>\n",
       "      <td>17588.000000</td>\n",
       "      <td>17588.000000</td>\n",
       "      <td>17588.000000</td>\n",
       "      <td>17588.000000</td>\n",
       "      <td>17588.000000</td>\n",
       "      <td>17588.000000</td>\n",
       "      <td>17588.000000</td>\n",
       "      <td>17588.000000</td>\n",
       "      <td>17588.000000</td>\n",
       "      <td>17588.000000</td>\n",
       "    </tr>\n",
       "    <tr>\n",
       "      <th>mean</th>\n",
       "      <td>181.10547</td>\n",
       "      <td>75.253355</td>\n",
       "      <td>25.460314</td>\n",
       "      <td>2.934103</td>\n",
       "      <td>2.303161</td>\n",
       "      <td>57.972766</td>\n",
       "      <td>54.802877</td>\n",
       "      <td>44.230327</td>\n",
       "      <td>45.565499</td>\n",
       "      <td>47.441096</td>\n",
       "      <td>...</td>\n",
       "      <td>63.206732</td>\n",
       "      <td>64.918524</td>\n",
       "      <td>52.393109</td>\n",
       "      <td>55.581192</td>\n",
       "      <td>45.157607</td>\n",
       "      <td>47.403173</td>\n",
       "      <td>47.181146</td>\n",
       "      <td>43.383443</td>\n",
       "      <td>49.165738</td>\n",
       "      <td>43.275586</td>\n",
       "    </tr>\n",
       "    <tr>\n",
       "      <th>std</th>\n",
       "      <td>6.67516</td>\n",
       "      <td>6.897948</td>\n",
       "      <td>4.680217</td>\n",
       "      <td>0.655927</td>\n",
       "      <td>0.746156</td>\n",
       "      <td>16.834779</td>\n",
       "      <td>18.913857</td>\n",
       "      <td>21.561703</td>\n",
       "      <td>21.515179</td>\n",
       "      <td>21.827815</td>\n",
       "      <td>...</td>\n",
       "      <td>14.618163</td>\n",
       "      <td>11.430807</td>\n",
       "      <td>17.473703</td>\n",
       "      <td>17.600155</td>\n",
       "      <td>19.374428</td>\n",
       "      <td>19.211887</td>\n",
       "      <td>18.464396</td>\n",
       "      <td>17.701903</td>\n",
       "      <td>15.871735</td>\n",
       "      <td>17.710839</td>\n",
       "    </tr>\n",
       "    <tr>\n",
       "      <th>min</th>\n",
       "      <td>155.00000</td>\n",
       "      <td>48.000000</td>\n",
       "      <td>17.000000</td>\n",
       "      <td>1.000000</td>\n",
       "      <td>1.000000</td>\n",
       "      <td>5.000000</td>\n",
       "      <td>4.000000</td>\n",
       "      <td>3.000000</td>\n",
       "      <td>5.000000</td>\n",
       "      <td>3.000000</td>\n",
       "      <td>...</td>\n",
       "      <td>11.000000</td>\n",
       "      <td>15.000000</td>\n",
       "      <td>4.000000</td>\n",
       "      <td>3.000000</td>\n",
       "      <td>2.000000</td>\n",
       "      <td>4.000000</td>\n",
       "      <td>6.000000</td>\n",
       "      <td>4.000000</td>\n",
       "      <td>7.000000</td>\n",
       "      <td>3.000000</td>\n",
       "    </tr>\n",
       "    <tr>\n",
       "      <th>25%</th>\n",
       "      <td>176.00000</td>\n",
       "      <td>70.000000</td>\n",
       "      <td>22.000000</td>\n",
       "      <td>3.000000</td>\n",
       "      <td>2.000000</td>\n",
       "      <td>53.000000</td>\n",
       "      <td>47.000000</td>\n",
       "      <td>22.000000</td>\n",
       "      <td>23.000000</td>\n",
       "      <td>26.000000</td>\n",
       "      <td>...</td>\n",
       "      <td>55.000000</td>\n",
       "      <td>58.000000</td>\n",
       "      <td>45.000000</td>\n",
       "      <td>45.000000</td>\n",
       "      <td>29.000000</td>\n",
       "      <td>32.000000</td>\n",
       "      <td>34.000000</td>\n",
       "      <td>31.000000</td>\n",
       "      <td>39.000000</td>\n",
       "      <td>30.000000</td>\n",
       "    </tr>\n",
       "    <tr>\n",
       "      <th>50%</th>\n",
       "      <td>181.00000</td>\n",
       "      <td>75.000000</td>\n",
       "      <td>25.000000</td>\n",
       "      <td>3.000000</td>\n",
       "      <td>2.000000</td>\n",
       "      <td>63.000000</td>\n",
       "      <td>60.000000</td>\n",
       "      <td>48.000000</td>\n",
       "      <td>51.000000</td>\n",
       "      <td>54.000000</td>\n",
       "      <td>...</td>\n",
       "      <td>65.000000</td>\n",
       "      <td>65.000000</td>\n",
       "      <td>56.000000</td>\n",
       "      <td>59.000000</td>\n",
       "      <td>48.000000</td>\n",
       "      <td>52.000000</td>\n",
       "      <td>48.000000</td>\n",
       "      <td>42.000000</td>\n",
       "      <td>50.000000</td>\n",
       "      <td>44.000000</td>\n",
       "    </tr>\n",
       "    <tr>\n",
       "      <th>75%</th>\n",
       "      <td>186.00000</td>\n",
       "      <td>80.000000</td>\n",
       "      <td>29.000000</td>\n",
       "      <td>3.000000</td>\n",
       "      <td>3.000000</td>\n",
       "      <td>69.000000</td>\n",
       "      <td>68.000000</td>\n",
       "      <td>64.000000</td>\n",
       "      <td>64.000000</td>\n",
       "      <td>66.000000</td>\n",
       "      <td>...</td>\n",
       "      <td>74.000000</td>\n",
       "      <td>73.000000</td>\n",
       "      <td>65.000000</td>\n",
       "      <td>69.000000</td>\n",
       "      <td>61.000000</td>\n",
       "      <td>63.000000</td>\n",
       "      <td>62.000000</td>\n",
       "      <td>57.000000</td>\n",
       "      <td>61.000000</td>\n",
       "      <td>57.000000</td>\n",
       "    </tr>\n",
       "    <tr>\n",
       "      <th>max</th>\n",
       "      <td>207.00000</td>\n",
       "      <td>110.000000</td>\n",
       "      <td>47.000000</td>\n",
       "      <td>5.000000</td>\n",
       "      <td>5.000000</td>\n",
       "      <td>95.000000</td>\n",
       "      <td>97.000000</td>\n",
       "      <td>92.000000</td>\n",
       "      <td>95.000000</td>\n",
       "      <td>92.000000</td>\n",
       "      <td>...</td>\n",
       "      <td>96.000000</td>\n",
       "      <td>95.000000</td>\n",
       "      <td>94.000000</td>\n",
       "      <td>93.000000</td>\n",
       "      <td>95.000000</td>\n",
       "      <td>91.000000</td>\n",
       "      <td>92.000000</td>\n",
       "      <td>93.000000</td>\n",
       "      <td>96.000000</td>\n",
       "      <td>93.000000</td>\n",
       "    </tr>\n",
       "  </tbody>\n",
       "</table>\n",
       "<p>8 rows × 33 columns</p>\n",
       "</div>"
      ],
      "text/plain": [
       "            Height        Weight           Age     Weak_foot   Skill_Moves  \\\n",
       "count  17588.00000  17588.000000  17588.000000  17588.000000  17588.000000   \n",
       "mean     181.10547     75.253355     25.460314      2.934103      2.303161   \n",
       "std        6.67516      6.897948      4.680217      0.655927      0.746156   \n",
       "min      155.00000     48.000000     17.000000      1.000000      1.000000   \n",
       "25%      176.00000     70.000000     22.000000      3.000000      2.000000   \n",
       "50%      181.00000     75.000000     25.000000      3.000000      2.000000   \n",
       "75%      186.00000     80.000000     29.000000      3.000000      3.000000   \n",
       "max      207.00000    110.000000     47.000000      5.000000      5.000000   \n",
       "\n",
       "       Ball_Control     Dribbling       Marking  Sliding_Tackle  \\\n",
       "count  17588.000000  17588.000000  17588.000000    17588.000000   \n",
       "mean      57.972766     54.802877     44.230327       45.565499   \n",
       "std       16.834779     18.913857     21.561703       21.515179   \n",
       "min        5.000000      4.000000      3.000000        5.000000   \n",
       "25%       53.000000     47.000000     22.000000       23.000000   \n",
       "50%       63.000000     60.000000     48.000000       51.000000   \n",
       "75%       69.000000     68.000000     64.000000       64.000000   \n",
       "max       95.000000     97.000000     92.000000       95.000000   \n",
       "\n",
       "       Standing_Tackle  ...       Agility       Jumping       Heading  \\\n",
       "count     17588.000000  ...  17588.000000  17588.000000  17588.000000   \n",
       "mean         47.441096  ...     63.206732     64.918524     52.393109   \n",
       "std          21.827815  ...     14.618163     11.430807     17.473703   \n",
       "min           3.000000  ...     11.000000     15.000000      4.000000   \n",
       "25%          26.000000  ...     55.000000     58.000000     45.000000   \n",
       "50%          54.000000  ...     65.000000     65.000000     56.000000   \n",
       "75%          66.000000  ...     74.000000     73.000000     65.000000   \n",
       "max          92.000000  ...     96.000000     95.000000     94.000000   \n",
       "\n",
       "         Shot_Power     Finishing    Long_Shots         Curve  \\\n",
       "count  17588.000000  17588.000000  17588.000000  17588.000000   \n",
       "mean      55.581192     45.157607     47.403173     47.181146   \n",
       "std       17.600155     19.374428     19.211887     18.464396   \n",
       "min        3.000000      2.000000      4.000000      6.000000   \n",
       "25%       45.000000     29.000000     32.000000     34.000000   \n",
       "50%       59.000000     48.000000     52.000000     48.000000   \n",
       "75%       69.000000     61.000000     63.000000     62.000000   \n",
       "max       93.000000     95.000000     91.000000     92.000000   \n",
       "\n",
       "       Freekick_Accuracy     Penalties       Volleys  \n",
       "count       17588.000000  17588.000000  17588.000000  \n",
       "mean           43.383443     49.165738     43.275586  \n",
       "std            17.701903     15.871735     17.710839  \n",
       "min             4.000000      7.000000      3.000000  \n",
       "25%            31.000000     39.000000     30.000000  \n",
       "50%            42.000000     50.000000     44.000000  \n",
       "75%            57.000000     61.000000     57.000000  \n",
       "max            93.000000     96.000000     93.000000  \n",
       "\n",
       "[8 rows x 33 columns]"
      ]
     },
     "execution_count": 5,
     "metadata": {},
     "output_type": "execute_result"
    }
   ],
   "source": [
    "# Describe\n",
    "df_players.describe()"
   ]
  },
  {
   "cell_type": "code",
   "execution_count": 6,
   "metadata": {
    "scrolled": true
   },
   "outputs": [
    {
     "data": {
      "text/plain": [
       "Index(['Height', 'Weight', 'Age', 'Weak_foot', 'Skill_Moves', 'Ball_Control',\n",
       "       'Dribbling', 'Marking', 'Sliding_Tackle', 'Standing_Tackle',\n",
       "       'Aggression', 'Reactions', 'Interceptions', 'Vision', 'Composure',\n",
       "       'Crossing', 'Short_Pass', 'Long_Pass', 'Acceleration', 'Speed',\n",
       "       'Stamina', 'Strength', 'Balance', 'Agility', 'Jumping', 'Heading',\n",
       "       'Shot_Power', 'Finishing', 'Long_Shots', 'Curve', 'Freekick_Accuracy',\n",
       "       'Penalties', 'Volleys'],\n",
       "      dtype='object')"
      ]
     },
     "execution_count": 6,
     "metadata": {},
     "output_type": "execute_result"
    }
   ],
   "source": [
    "# Tags number\n",
    "df_players.select_dtypes(exclude=\"object\").columns"
   ]
  },
  {
   "cell_type": "code",
   "execution_count": 7,
   "metadata": {
    "scrolled": false
   },
   "outputs": [
    {
     "data": {
      "text/plain": [
       "Index(['Name', 'Nationality', 'National_Position', 'Club_Position',\n",
       "       'Preffered_Foot', 'Work_Rate'],\n",
       "      dtype='object')"
      ]
     },
     "execution_count": 7,
     "metadata": {},
     "output_type": "execute_result"
    }
   ],
   "source": [
    "# Tags string\n",
    "df_players.select_dtypes(include=[object]).columns"
   ]
  },
  {
   "cell_type": "code",
   "execution_count": 8,
   "metadata": {},
   "outputs": [],
   "source": [
    "# Remove nans in tag\n",
    "df_players[\"National_Position\"].fillna(\"No jugo\",inplace=True)"
   ]
  },
  {
   "cell_type": "markdown",
   "metadata": {
    "cell_id": "00013-1b1d1556-4dbe-499e-8a34-90748e76565e",
    "deepnote_cell_type": "markdown",
    "id": "2R3b7Qe501t5"
   },
   "source": [
    "## 1.1 Predicción de Seleccionados Nacionales \n",
    "\n",
    "Como primera tarea, Renacín, intrigado por la posibilidad de saber qué tan reconocido es un jugador, le consulta a su equipo si es posible predecir si un jugador será o no seleccionado nacional a partir de sus estadísticas en el juego. \n",
    "\n",
    "<p align=\"center\">\n",
    "  <img src=\"https://thumbs.gfycat.com/ThornyFrankFoxhound-size_restricted.gif\" width=\"500\">\n",
    "</p>"
   ]
  },
  {
   "cell_type": "markdown",
   "metadata": {
    "cell_id": "00014-33fe54d0-08a3-457a-932d-d07eb29b7ee3",
    "deepnote_cell_type": "markdown",
    "id": "PIe_Ha58pQRC"
   },
   "source": [
    "### 1.1.1 Generación de Labels para la Clasificación [Sin Puntaje]\n",
    "\n",
    "\n",
    "Primero comience generando las labels para la clasificación. Para esto, trabaje sobre el atributo ```National_Position``` suponiendo que los valores nulos son jugadores no seleccionados para representar a su país. \n",
    "\n",
    "Hecho esto, ¿Cuantos ejemplos por cada clase se tienen? Comente lo que observa.\n",
    "\n"
   ]
  },
  {
   "cell_type": "markdown",
   "metadata": {
    "cell_id": "00015-f7029512-357f-4f07-9897-aaf5d65430a6",
    "deepnote_cell_type": "markdown",
    "tags": []
   },
   "source": [
    "**Respuesta:**"
   ]
  },
  {
   "cell_type": "code",
   "execution_count": 9,
   "metadata": {
    "cell_id": "00016-ea27a011-47ab-4d54-b2cf-f07037d65135",
    "deepnote_cell_type": "code",
    "deepnote_to_be_reexecuted": false,
    "execution_millis": 3,
    "execution_start": 1636741171250,
    "id": "uwKaIuho4lqn",
    "source_hash": "43ce1981"
   },
   "outputs": [],
   "source": [
    "# Tag labels \n",
    "df_players[\"Seleccionado\"]=\"\"\n",
    "df_players[\"Seleccionado\"][df_players[\"National_Position\"]==\"No jugo\"]=\"No\"\n",
    "df_players[\"Seleccionado\"][df_players[\"National_Position\"]!=\"No jugo\"]=\"Si\""
   ]
  },
  {
   "cell_type": "code",
   "execution_count": 10,
   "metadata": {},
   "outputs": [
    {
     "data": {
      "text/plain": [
       "No    16513\n",
       "Si     1075\n",
       "Name: Seleccionado, dtype: int64"
      ]
     },
     "execution_count": 10,
     "metadata": {},
     "output_type": "execute_result"
    }
   ],
   "source": [
    "# Value counts \n",
    "df_players[\"Seleccionado\"].value_counts()"
   ]
  },
  {
   "cell_type": "markdown",
   "metadata": {
    "cell_id": "00019-645127af-999a-40ce-b7a1-aa62bb742b4a",
    "deepnote_cell_type": "markdown",
    "id": "0F70XPRFpWH9"
   },
   "source": [
    "### 1.1.2 Camino a la clasificación [1 punto]\n",
    "\n",
    "<p align=\"center\">\n",
    "  <img src=\"http://vignette3.wikia.nocookie.net/inciclopedia/images/c/cd/Patada_Medel_Messi.gif/revision/latest?cb=20150705215005\" width=\"500\">\n",
    "</p>\n",
    "\n",
    "Para preprocesar el dataset, genere un `ColumnTransformer` en donde especifique las transformaciones que hay que realizar para cada columna (por ejemplo StandarScaler, MinMaxScaler, OneHotEncoder, etc...) para que puedan ser utilizadas correctamente por el modelo predictivo y guardelo en algúna variable.\n",
    "\n",
    "Luego, comente y justifique las transformaciones elegidas sobre cada una de las variables (para esto utilice el material ```Player_Stats_Report.html``` que viene en el zip del lab), al igual que las transformaciones aplicadas.\n",
    "\n",
    "Hecho lo anterior, **defina al menos 3 pipelines para la clasificación**, en donde utilice el mismo ColumnTransformer definido anteriormente, pero que varie entre cada pipeline los clasificadores. \n",
    "\n",
    "Para seleccionar los clasificadores más adecuados, utilice la siguiente guía:\n",
    "\n",
    "<p align=\"center\">\n",
    "  <img src=\"https://scikit-learn.org/stable/_static/ml_map.png\" width=\"500\">\n",
    "</p>\n",
    "\n",
    "<br/>\n",
    "\n",
    "Con ella, comente y justifique cada una de las decisiones tomadas al momento de desarrollar su pipeline.\n",
    "\n",
    "**To-Do:**\n",
    "\n",
    "- [x] Genere un ```ColumnTransformer``` enfocado en preprocesar los datos.\n",
    "- [x] Indicar y Justificar que preprocesamiento utiliza sobre cada columna.\n",
    "- [x] Crear 3 ``pipelines`` con diferentes clasificadores.\n",
    "- [x] Para seleccionar los clasificadores base sus decisiones en la siguiente [guía](https://scikit-learn.org/stable/tutorial/machine_learning_map/index.html)\n",
    "- [x] No entrenar los ``pipelines`` aún.\n",
    "\n",
    "**Nota:** No es necesario entrenar los clasificadores aún."
   ]
  },
  {
   "cell_type": "markdown",
   "metadata": {
    "cell_id": "00020-4620fe7d-8e00-4c8b-976f-4212347359e6",
    "deepnote_cell_type": "markdown",
    "tags": []
   },
   "source": [
    "**Respuesta:**"
   ]
  },
  {
   "cell_type": "code",
   "execution_count": 11,
   "metadata": {},
   "outputs": [],
   "source": [
    "# Columns transformer\n",
    "\n",
    "# El procesamiento se separará en datos categoricos, los cuales seran procesados con one hot encoder, y los datos números serán\n",
    "# estandarizados con StandardScaler()\n",
    "\n",
    "# Variables categoricas (string)\n",
    "categorical_features=df_players.select_dtypes(include=\"object\").columns.tolist()\n",
    "\n",
    "# Se remueve la variable objetivo y la variable con la cual se construyo el target, es decir \"National_Position\" y Name\n",
    "# ya que esta variable en el contexto del futbol puede sesgar al modelo\n",
    "\n",
    "categorical_features.remove('Seleccionado')\n",
    "categorical_features.remove('National_Position')\n",
    "categorical_features.remove('Name')\n",
    "\n",
    "# Variables númericas\n",
    "integer_features=df_players.select_dtypes(exclude=\"object\").columns\n",
    "\n",
    "\n",
    "# Columns transformer\n",
    "preprocessing_transformer = ColumnTransformer(\n",
    "    transformers=[\n",
    "        ('OneHotEncoder', OneHotEncoder(handle_unknown=\"ignore\"),  \n",
    "          categorical_features),\n",
    "        ('StandardScaler', StandardScaler(),\n",
    "         integer_features),\n",
    "    ])"
   ]
  },
  {
   "cell_type": "code",
   "execution_count": 12,
   "metadata": {},
   "outputs": [],
   "source": [
    "# Pipelines clasificadores, al tener menos de 100k de datos se eligen los siguientes clasificadores\n",
    "\n",
    "tree_pipe = Pipeline(\n",
    "    [(\"preprocesamiento\", preprocessing_transformer), (\"tree\", DecisionTreeClassifier(criterion=\"entropy\"))]\n",
    ")\n",
    "\n",
    "neigh_pipe = Pipeline(\n",
    "    [(\"preprocesamiento\", preprocessing_transformer), (\"kne\", KNeighborsClassifier(n_neighbors=3))]\n",
    ")\n",
    "\n",
    "svc_pipe = Pipeline(\n",
    "    [(\"preprocesamiento\", preprocessing_transformer), (\"svc\", SVC(kernel='linear', probability=False))]\n",
    ")\n"
   ]
  },
  {
   "cell_type": "markdown",
   "metadata": {
    "cell_id": "00022-c2604b33-63e0-4f34-88cf-019afa3b2225",
    "deepnote_cell_type": "markdown",
    "id": "MpKq6oO3vCNL"
   },
   "source": [
    "### 1.1.3 Entrenemos los pipelines [1 punto]\n",
    "\n",
    "<p align=\"center\">\n",
    "  <img src=\"https://i.gifer.com/7Cc8.gif\" width=\"350\">\n",
    "</p>\n"
   ]
  },
  {
   "cell_type": "markdown",
   "metadata": {
    "cell_id": "00023-664600ec-8c7d-4e9a-8673-edd18d5145a3",
    "deepnote_cell_type": "markdown",
    "id": "wE_1aZaIvOeN"
   },
   "source": [
    "Ahora, entrene los `pipeline` generados en los pasos anteriores. Para esto, primero separe los datos de entrenamiento en un conjunto de entrenamiento y de prueba  (la proporción queda a su juicio).\n",
    "\n",
    "En este paso, seleccione los ejemplos de forma aleatoria e intente mantener la distribución original de labels de cada clase en los conjuntos de prueba/entrenamiento. (vea la documentación de `train_test_split`).\n",
    "\n",
    "\n",
    "Luego, entrene los pipelines\n",
    "\n",
    "Una vez entrenado su modelo, evalue su rendimiento a través de diferentes métricas, comentando que significa cada uno de los valores obtenidos. Puede usar la función `classification_report` para corroborar sus resultados.\n",
    "\n",
    "- ¿Qué implican los valores de accuracy, precisión y recall de la clase positiva (la que indica que un jugador es seleccionado nacional)?\n",
    "- ¿Podrían mejorarse los resultados?, ¿Cómo?\n",
    "- ¿Influye la cantidad de ejemplos por clase?\n",
    "\n",
    "**To-Do**:\n",
    "\n",
    "- [x] Separar el conjunto de datos en entrenamiento y de prueba.\n",
    "- [x] Entrenar los `pipelines`.\n",
    "- [x] Utilizar las métricas para evaluar los modelos generados.\n"
   ]
  },
  {
   "cell_type": "markdown",
   "metadata": {
    "cell_id": "00024-b842d4aa-fb47-4513-8649-e942f6094140",
    "deepnote_cell_type": "markdown",
    "tags": []
   },
   "source": [
    "**Respuesta:**"
   ]
  },
  {
   "cell_type": "code",
   "execution_count": 13,
   "metadata": {
    "cell_id": "00023-f6cdd4bf-3786-444f-a249-62e47133e558",
    "deepnote_cell_type": "code",
    "tags": []
   },
   "outputs": [],
   "source": [
    "# Generación conjunto de train y test\n",
    "\n",
    "features = df_players.drop(columns=[\"Seleccionado\"]).copy() \n",
    "labels = df_players.loc[:, \"Seleccionado\"].copy()\n",
    "\n",
    "# Generación de conjuntos de train y test\n",
    "X_train, X_test, y_train, y_test = train_test_split(\n",
    "    features, labels, test_size=0.33, shuffle=True, stratify=labels\n",
    ")"
   ]
  },
  {
   "cell_type": "code",
   "execution_count": 14,
   "metadata": {},
   "outputs": [
    {
     "data": {
      "text/plain": [
       "Pipeline(steps=[('preprocesamiento',\n",
       "                 ColumnTransformer(transformers=[('OneHotEncoder',\n",
       "                                                  OneHotEncoder(handle_unknown='ignore'),\n",
       "                                                  ['Nationality',\n",
       "                                                   'Club_Position',\n",
       "                                                   'Preffered_Foot',\n",
       "                                                   'Work_Rate']),\n",
       "                                                 ('StandardScaler',\n",
       "                                                  StandardScaler(),\n",
       "                                                  Index(['Height', 'Weight', 'Age', 'Weak_foot', 'Skill_Moves', 'Ball_Control',\n",
       "       'Dribbling', 'Marking', 'Sliding_Tackle', 'Standing_Tackle',\n",
       "       'Aggression', 'Reactions', 'Interceptions', 'Vision', 'Composure',\n",
       "       'Crossing', 'Short_Pass', 'Long_Pass', 'Acceleration', 'Speed',\n",
       "       'Stamina', 'Strength', 'Balance', 'Agility', 'Jumping', 'Heading',\n",
       "       'Shot_Power', 'Finishing', 'Long_Shots', 'Curve', 'Freekick_Accuracy',\n",
       "       'Penalties', 'Volleys'],\n",
       "      dtype='object'))])),\n",
       "                ('svc', SVC(kernel='linear'))])"
      ]
     },
     "execution_count": 14,
     "metadata": {},
     "output_type": "execute_result"
    }
   ],
   "source": [
    "# Entrenamiento de pipelines\n",
    "\n",
    "tree_pipe.fit(X_train, y_train)\n",
    "neigh_pipe.fit(X_train, y_train)\n",
    "svc_pipe.fit(X_train, y_train)"
   ]
  },
  {
   "cell_type": "code",
   "execution_count": 15,
   "metadata": {},
   "outputs": [],
   "source": [
    "# Generación de predicciones\n",
    "\n",
    "y_pred_tree = tree_pipe.predict(X_test)\n",
    "y_pred_neigh = neigh_pipe.predict(X_test)\n",
    "y_pred_svc = svc_pipe.predict(X_test)"
   ]
  },
  {
   "cell_type": "code",
   "execution_count": 16,
   "metadata": {
    "scrolled": false
   },
   "outputs": [
    {
     "name": "stdout",
     "output_type": "stream",
     "text": [
      "Tree\n",
      "              precision    recall  f1-score   support\n",
      "\n",
      "          No       0.96      0.96      0.96      5424\n",
      "          Si       0.40      0.38      0.39       381\n",
      "\n",
      "    accuracy                           0.92      5805\n",
      "   macro avg       0.68      0.67      0.67      5805\n",
      "weighted avg       0.92      0.92      0.92      5805\n",
      "\n",
      "\n",
      "Neigh\n",
      "              precision    recall  f1-score   support\n",
      "\n",
      "          No       0.99      0.94      0.97      5701\n",
      "          Si       0.12      0.39      0.18       104\n",
      "\n",
      "    accuracy                           0.94      5805\n",
      "   macro avg       0.55      0.67      0.57      5805\n",
      "weighted avg       0.97      0.94      0.95      5805\n",
      "\n",
      "\n",
      "SVC\n",
      "              precision    recall  f1-score   support\n",
      "\n",
      "          No       0.99      0.95      0.97      5687\n",
      "          Si       0.22      0.65      0.33       118\n",
      "\n",
      "    accuracy                           0.95      5805\n",
      "   macro avg       0.60      0.80      0.65      5805\n",
      "weighted avg       0.98      0.95      0.96      5805\n",
      "\n"
     ]
    }
   ],
   "source": [
    "# Métricas de evaluación \n",
    "print(\"Tree\")\n",
    "print(classification_report(y_pred_tree, y_test))\n",
    "print(\"\")\n",
    "\n",
    "print(\"Neigh\")\n",
    "print(classification_report(y_pred_neigh, y_test))\n",
    "print(\"\")\n",
    "\n",
    "print(\"SVC\")\n",
    "print(classification_report(y_pred_svc, y_test))\n"
   ]
  },
  {
   "cell_type": "markdown",
   "metadata": {},
   "source": [
    "# Respuesta"
   ]
  },
  {
   "cell_type": "markdown",
   "metadata": {},
   "source": [
    "**A partir del reporte, en todos los modelos se observa un alto accuracy, lo cual se debe a que las clases estan muy desequilibradas. Debido a esto, esta métrica no debe ser considerada como un buen indicador.**\n",
    "\n",
    "**Observando las métricas precision, recall y F1, se observa que solo se obtienen buenos números cuando la clase positiva es \"No\", lo cual se debe a lo mencionado anteriormente, desbalance de clases. Basandonos en el F1 el mejor clasificador fue SVM lineal.**\n",
    "\n",
    "**Una forma de mejorar los resultados sería equilibrando las clases y utilizar Gridsearch para encontrar los mejores hiperparametros de cada modelo.**"
   ]
  },
  {
   "cell_type": "markdown",
   "metadata": {
    "cell_id": "00029-25d6c3d3-9c25-49f0-a27b-beface2dd794",
    "deepnote_cell_type": "markdown",
    "id": "ix97Ho4uOARH"
   },
   "source": [
    "## 1.2 Predicción de posiciones de jugadores [2 puntos]\n",
    "\n",
    "<p align=\"center\">\n",
    "  <img src=\"https://pbs.twimg.com/media/E1rfA1aWEAYU6Ny.jpg\" width=\"500\">\n",
    "</p>"
   ]
  },
  {
   "cell_type": "markdown",
   "metadata": {
    "cell_id": "00030-38a30ede-8d53-4a7c-930b-bfeaa4d499ff",
    "deepnote_cell_type": "markdown",
    "id": "oHAwZfV8hMsk"
   },
   "source": [
    "En una nueva jornada de desmesuradas transacciones deportivas, Renacín escuchó a sus colegas discutir acerca de que el precio de cada jugador depende en gran medida de la posición en la cancha en la que juega. Y además, que hay bastantes jugadores nuevos que no tienen muy claro en que posición verdaderamente brillarían, por lo que actualmente puede que actualmente estén jugando en posiciones sub-optimas. \n",
    "\n",
    "Viendo que los resultados del primer análisis no son tan esperanzadores, el corporeo los comanda a cambiar su tarea: ahora, les solicita que construyan un clasificador enfocado en predecir la mejor posición de los jugadores en la cancha según sus características. \n",
    "\n",
    "Para lograr esto, primero, les pide que etiqueten de la siguiente manera los valores que aparecen en el atributo ```Club_Position```, pidiendo que agrupen los valores en los siguientes grupos:\n",
    "\n",
    "**Nota**:  Renacín les recalca que **no deben utilizar los valores ```Sub``` y ```Res``` de esta columna**.\n",
    "\n",
    "```python\n",
    "ataque = ['ST', 'CF'] \n",
    "central_ataque = ['RW', 'CAM', 'LW'] \n",
    "central = ['RM', 'CM', 'LM'] \n",
    "central_defensa = ['RWB', 'CDM', 'LWB']\n",
    "defensa = ['RB', 'CB', 'LB']\n",
    "arquero = ['GK']\n",
    "```\n",
    "\n",
    "Cabe señalar que al igual como lo realizado con la clasificación binaria, deberá justificar en base a la [guía](https://scikit-learn.org/stable/tutorial/machine_learning_map/index.html) la elección del clasificador y se deben comentar los resultados obtenidos en la clasificación.\n",
    "\n",
    "**To-Do**:\n",
    "\n",
    "- [x] Aplique las etiquetas descritas anteriormente en cada uno de los valores señalados en esta sección.\n",
    "- [x] Cuente cuantos por clase quedan.\n",
    "- [x] Entrene el nuevo pipeline y ejecute una evaluación de este.  \n",
    "- [x] Comente los resultados obtenidos."
   ]
  },
  {
   "cell_type": "code",
   "execution_count": 17,
   "metadata": {},
   "outputs": [],
   "source": [
    "df_players = pd.read_csv('stats_players.csv')"
   ]
  },
  {
   "cell_type": "markdown",
   "metadata": {
    "cell_id": "00031-e53db99a-2bcc-474a-92b1-1f55458afc1d",
    "deepnote_cell_type": "markdown",
    "tags": []
   },
   "source": [
    "**Respuesta:**"
   ]
  },
  {
   "cell_type": "code",
   "execution_count": 18,
   "metadata": {
    "cell_id": "00028-f8dd9230-e314-42be-a0f8-2c295dd45e54",
    "deepnote_cell_type": "code",
    "tags": []
   },
   "outputs": [
    {
     "data": {
      "text/html": [
       "<div>\n",
       "<style scoped>\n",
       "    .dataframe tbody tr th:only-of-type {\n",
       "        vertical-align: middle;\n",
       "    }\n",
       "\n",
       "    .dataframe tbody tr th {\n",
       "        vertical-align: top;\n",
       "    }\n",
       "\n",
       "    .dataframe thead th {\n",
       "        text-align: right;\n",
       "    }\n",
       "</style>\n",
       "<table border=\"1\" class=\"dataframe\">\n",
       "  <thead>\n",
       "    <tr style=\"text-align: right;\">\n",
       "      <th></th>\n",
       "      <th>Name</th>\n",
       "      <th>Nationality</th>\n",
       "      <th>National_Position</th>\n",
       "      <th>Club_Position</th>\n",
       "      <th>Height</th>\n",
       "      <th>Weight</th>\n",
       "      <th>Preffered_Foot</th>\n",
       "      <th>Age</th>\n",
       "      <th>Work_Rate</th>\n",
       "      <th>Weak_foot</th>\n",
       "      <th>...</th>\n",
       "      <th>Agility</th>\n",
       "      <th>Jumping</th>\n",
       "      <th>Heading</th>\n",
       "      <th>Shot_Power</th>\n",
       "      <th>Finishing</th>\n",
       "      <th>Long_Shots</th>\n",
       "      <th>Curve</th>\n",
       "      <th>Freekick_Accuracy</th>\n",
       "      <th>Penalties</th>\n",
       "      <th>Volleys</th>\n",
       "    </tr>\n",
       "  </thead>\n",
       "  <tbody>\n",
       "    <tr>\n",
       "      <th>0</th>\n",
       "      <td>Cristiano Ronaldo</td>\n",
       "      <td>Portugal</td>\n",
       "      <td>LS</td>\n",
       "      <td>central_ataque</td>\n",
       "      <td>185</td>\n",
       "      <td>80</td>\n",
       "      <td>Right</td>\n",
       "      <td>32</td>\n",
       "      <td>High / Low</td>\n",
       "      <td>4</td>\n",
       "      <td>...</td>\n",
       "      <td>90</td>\n",
       "      <td>95</td>\n",
       "      <td>85</td>\n",
       "      <td>92</td>\n",
       "      <td>93</td>\n",
       "      <td>90</td>\n",
       "      <td>81</td>\n",
       "      <td>76</td>\n",
       "      <td>85</td>\n",
       "      <td>88</td>\n",
       "    </tr>\n",
       "    <tr>\n",
       "      <th>1</th>\n",
       "      <td>Lionel Messi</td>\n",
       "      <td>Argentina</td>\n",
       "      <td>RW</td>\n",
       "      <td>central_ataque</td>\n",
       "      <td>170</td>\n",
       "      <td>72</td>\n",
       "      <td>Left</td>\n",
       "      <td>29</td>\n",
       "      <td>Medium / Medium</td>\n",
       "      <td>4</td>\n",
       "      <td>...</td>\n",
       "      <td>90</td>\n",
       "      <td>68</td>\n",
       "      <td>71</td>\n",
       "      <td>85</td>\n",
       "      <td>95</td>\n",
       "      <td>88</td>\n",
       "      <td>89</td>\n",
       "      <td>90</td>\n",
       "      <td>74</td>\n",
       "      <td>85</td>\n",
       "    </tr>\n",
       "    <tr>\n",
       "      <th>2</th>\n",
       "      <td>Neymar</td>\n",
       "      <td>Brazil</td>\n",
       "      <td>LW</td>\n",
       "      <td>central_ataque</td>\n",
       "      <td>174</td>\n",
       "      <td>68</td>\n",
       "      <td>Right</td>\n",
       "      <td>25</td>\n",
       "      <td>High / Medium</td>\n",
       "      <td>5</td>\n",
       "      <td>...</td>\n",
       "      <td>96</td>\n",
       "      <td>61</td>\n",
       "      <td>62</td>\n",
       "      <td>78</td>\n",
       "      <td>89</td>\n",
       "      <td>77</td>\n",
       "      <td>79</td>\n",
       "      <td>84</td>\n",
       "      <td>81</td>\n",
       "      <td>83</td>\n",
       "    </tr>\n",
       "    <tr>\n",
       "      <th>3</th>\n",
       "      <td>Luis Suárez</td>\n",
       "      <td>Uruguay</td>\n",
       "      <td>LS</td>\n",
       "      <td>ataque</td>\n",
       "      <td>182</td>\n",
       "      <td>85</td>\n",
       "      <td>Right</td>\n",
       "      <td>30</td>\n",
       "      <td>High / Medium</td>\n",
       "      <td>4</td>\n",
       "      <td>...</td>\n",
       "      <td>86</td>\n",
       "      <td>69</td>\n",
       "      <td>77</td>\n",
       "      <td>87</td>\n",
       "      <td>94</td>\n",
       "      <td>86</td>\n",
       "      <td>86</td>\n",
       "      <td>84</td>\n",
       "      <td>85</td>\n",
       "      <td>88</td>\n",
       "    </tr>\n",
       "    <tr>\n",
       "      <th>4</th>\n",
       "      <td>Manuel Neuer</td>\n",
       "      <td>Germany</td>\n",
       "      <td>GK</td>\n",
       "      <td>arquero</td>\n",
       "      <td>193</td>\n",
       "      <td>92</td>\n",
       "      <td>Right</td>\n",
       "      <td>31</td>\n",
       "      <td>Medium / Medium</td>\n",
       "      <td>4</td>\n",
       "      <td>...</td>\n",
       "      <td>52</td>\n",
       "      <td>78</td>\n",
       "      <td>25</td>\n",
       "      <td>25</td>\n",
       "      <td>13</td>\n",
       "      <td>16</td>\n",
       "      <td>14</td>\n",
       "      <td>11</td>\n",
       "      <td>47</td>\n",
       "      <td>11</td>\n",
       "    </tr>\n",
       "  </tbody>\n",
       "</table>\n",
       "<p>5 rows × 39 columns</p>\n",
       "</div>"
      ],
      "text/plain": [
       "                Name Nationality National_Position   Club_Position  Height  \\\n",
       "0  Cristiano Ronaldo    Portugal                LS  central_ataque     185   \n",
       "1       Lionel Messi   Argentina                RW  central_ataque     170   \n",
       "2             Neymar      Brazil                LW  central_ataque     174   \n",
       "3        Luis Suárez     Uruguay                LS          ataque     182   \n",
       "4       Manuel Neuer     Germany                GK         arquero     193   \n",
       "\n",
       "   Weight Preffered_Foot  Age        Work_Rate  Weak_foot  ...  Agility  \\\n",
       "0      80          Right   32       High / Low          4  ...       90   \n",
       "1      72           Left   29  Medium / Medium          4  ...       90   \n",
       "2      68          Right   25    High / Medium          5  ...       96   \n",
       "3      85          Right   30    High / Medium          4  ...       86   \n",
       "4      92          Right   31  Medium / Medium          4  ...       52   \n",
       "\n",
       "   Jumping  Heading  Shot_Power  Finishing  Long_Shots  Curve  \\\n",
       "0       95       85          92         93          90     81   \n",
       "1       68       71          85         95          88     89   \n",
       "2       61       62          78         89          77     79   \n",
       "3       69       77          87         94          86     86   \n",
       "4       78       25          25         13          16     14   \n",
       "\n",
       "   Freekick_Accuracy  Penalties  Volleys  \n",
       "0                 76         85       88  \n",
       "1                 90         74       85  \n",
       "2                 84         81       83  \n",
       "3                 84         85       88  \n",
       "4                 11         47       11  \n",
       "\n",
       "[5 rows x 39 columns]"
      ]
     },
     "execution_count": 18,
     "metadata": {},
     "output_type": "execute_result"
    }
   ],
   "source": [
    "# Replace\n",
    "\n",
    "df_players[\"Club_Position\"].replace(['ST', 'CF'] , \"ataque\",inplace=True)\n",
    "df_players[\"Club_Position\"].replace(['RW', 'CAM', 'LW'] , \"central_ataque\",inplace=True)\n",
    "df_players[\"Club_Position\"].replace(['RM', 'CM', 'LM']  , \"central\",inplace=True)\n",
    "df_players[\"Club_Position\"].replace(['RWB', 'CDM', 'LWB']  , \"central_defensa\",inplace=True)\n",
    "df_players[\"Club_Position\"].replace(['RB', 'CB', 'LB']  , \"defensa\",inplace=True)\n",
    "df_players[\"Club_Position\"].replace(['GK']  , \"arquero\",inplace=True)\n",
    "\n",
    "# We use only labels create\n",
    "\n",
    "df_players=df_players[df_players[\"Club_Position\"].isin([\"ataque\",\"central_ataque\",\"central\",\n",
    "                                                        \"central_defensa\",\"defensa\",\"arquero\"])]\n",
    "df_players.head()"
   ]
  },
  {
   "cell_type": "code",
   "execution_count": 19,
   "metadata": {
    "scrolled": true
   },
   "outputs": [
    {
     "data": {
      "text/plain": [
       "defensa            1180\n",
       "central             907\n",
       "arquero             632\n",
       "central_ataque      581\n",
       "ataque              430\n",
       "central_defensa     209\n",
       "Name: Club_Position, dtype: int64"
      ]
     },
     "execution_count": 19,
     "metadata": {},
     "output_type": "execute_result"
    }
   ],
   "source": [
    "df_players[\"Club_Position\"].value_counts()"
   ]
  },
  {
   "cell_type": "code",
   "execution_count": 102,
   "metadata": {},
   "outputs": [],
   "source": [
    "#px.parallel_categories(df_players, dimensions=['Club_Position', 'National_Position'])"
   ]
  },
  {
   "cell_type": "code",
   "execution_count": 20,
   "metadata": {},
   "outputs": [],
   "source": [
    "# Columns transformer\n",
    "\n",
    "# El procesamiento se separará en datos categoricos, los cuales seran procesados con one hot encoder, y los datos números serán\n",
    "# estandarizados con StandardScaler()\n",
    "\n",
    "# Variables categoricas (string)\n",
    "categorical_features=df_players.select_dtypes(include=\"object\").columns.tolist()\n",
    "\n",
    "# Se remueve la variable Name y National_Position ya que esta variable en el contexto del futbol puede sesgar al modelo\n",
    "#y el target\n",
    "\n",
    "categorical_features.remove('Name')\n",
    "categorical_features.remove('Club_Position')\n",
    "categorical_features.remove('National_Position')\n",
    "\n",
    "# Variables númericas\n",
    "integer_features=df_players.select_dtypes(exclude=\"object\").columns\n",
    "\n",
    "# Columns transformer\n",
    "preprocessing_transformer = ColumnTransformer(\n",
    "    transformers=[\n",
    "        ('OneHotEncoder', OneHotEncoder(handle_unknown=\"ignore\"),  \n",
    "          categorical_features),\n",
    "        ('StandardScaler', StandardScaler(),\n",
    "         integer_features),\n",
    "    ])"
   ]
  },
  {
   "cell_type": "code",
   "execution_count": 21,
   "metadata": {},
   "outputs": [],
   "source": [
    "# Pipelines clasificadores, al tener menos de 100k de datos se eligen los siguientes clasificadores\n",
    "\n",
    "tree_pipe = Pipeline(\n",
    "    [(\"preprocesamiento\", preprocessing_transformer), (\"tree\", DecisionTreeClassifier(criterion=\"entropy\"))]\n",
    ")\n",
    "\n",
    "neigh_pipe = Pipeline(\n",
    "    [(\"preprocesamiento\", preprocessing_transformer), (\"kne\", KNeighborsClassifier(n_neighbors=3))]\n",
    ")\n",
    "\n",
    "svc_pipe = Pipeline(\n",
    "    [(\"preprocesamiento\", preprocessing_transformer), (\"svc\", SVC(kernel='linear', probability=False))]\n",
    ")\n"
   ]
  },
  {
   "cell_type": "code",
   "execution_count": 22,
   "metadata": {},
   "outputs": [],
   "source": [
    "# Generación conjunto de train y test\n",
    "\n",
    "features = df_players.drop(columns=[\"Club_Position\"]).copy() \n",
    "labels = df_players.loc[:, \"Club_Position\"].copy()\n",
    "\n",
    "# Generación de conjuntos de train y test\n",
    "X_train, X_test, y_train, y_test = train_test_split(\n",
    "    features, labels, test_size=0.33, shuffle=True, stratify=labels\n",
    ")"
   ]
  },
  {
   "cell_type": "code",
   "execution_count": 23,
   "metadata": {},
   "outputs": [
    {
     "data": {
      "text/plain": [
       "Pipeline(steps=[('preprocesamiento',\n",
       "                 ColumnTransformer(transformers=[('OneHotEncoder',\n",
       "                                                  OneHotEncoder(handle_unknown='ignore'),\n",
       "                                                  ['Nationality',\n",
       "                                                   'Preffered_Foot',\n",
       "                                                   'Work_Rate']),\n",
       "                                                 ('StandardScaler',\n",
       "                                                  StandardScaler(),\n",
       "                                                  Index(['Height', 'Weight', 'Age', 'Weak_foot', 'Skill_Moves', 'Ball_Control',\n",
       "       'Dribbling', 'Marking', 'Sliding_Tackle', 'Standing_Tackle',\n",
       "       'Aggression', 'Reactions', 'Interceptions', 'Vision', 'Composure',\n",
       "       'Crossing', 'Short_Pass', 'Long_Pass', 'Acceleration', 'Speed',\n",
       "       'Stamina', 'Strength', 'Balance', 'Agility', 'Jumping', 'Heading',\n",
       "       'Shot_Power', 'Finishing', 'Long_Shots', 'Curve', 'Freekick_Accuracy',\n",
       "       'Penalties', 'Volleys'],\n",
       "      dtype='object'))])),\n",
       "                ('svc', SVC(kernel='linear'))])"
      ]
     },
     "execution_count": 23,
     "metadata": {},
     "output_type": "execute_result"
    }
   ],
   "source": [
    "# Entrenamiento de pipelines\n",
    "\n",
    "tree_pipe.fit(X_train, y_train)\n",
    "neigh_pipe.fit(X_train, y_train)\n",
    "svc_pipe.fit(X_train, y_train)"
   ]
  },
  {
   "cell_type": "code",
   "execution_count": 24,
   "metadata": {},
   "outputs": [],
   "source": [
    "# Generación de predicciones\n",
    "\n",
    "y_pred_tree = tree_pipe.predict(X_test)\n",
    "y_pred_neigh = neigh_pipe.predict(X_test)\n",
    "y_pred_svc = svc_pipe.predict(X_test)"
   ]
  },
  {
   "cell_type": "code",
   "execution_count": 25,
   "metadata": {
    "scrolled": false
   },
   "outputs": [
    {
     "name": "stdout",
     "output_type": "stream",
     "text": [
      "Tree\n",
      "                 precision    recall  f1-score   support\n",
      "\n",
      "        arquero       1.00      1.00      1.00       208\n",
      "         ataque       0.69      0.68      0.69       144\n",
      "        central       0.48      0.50      0.49       291\n",
      " central_ataque       0.40      0.38      0.39       205\n",
      "central_defensa       0.26      0.19      0.22        96\n",
      "        defensa       0.72      0.79      0.75       356\n",
      "\n",
      "       accuracy                           0.64      1300\n",
      "      macro avg       0.59      0.59      0.59      1300\n",
      "   weighted avg       0.62      0.64      0.63      1300\n",
      "\n",
      "\n",
      "Neigh\n",
      "                 precision    recall  f1-score   support\n",
      "\n",
      "        arquero       1.00      1.00      1.00       209\n",
      "         ataque       0.82      0.67      0.74       175\n",
      "        central       0.59      0.51      0.54       348\n",
      " central_ataque       0.26      0.43      0.32       116\n",
      "central_defensa       0.10      0.33      0.16        21\n",
      "        defensa       0.89      0.81      0.85       431\n",
      "\n",
      "       accuracy                           0.70      1300\n",
      "      macro avg       0.61      0.62      0.60      1300\n",
      "   weighted avg       0.75      0.70      0.72      1300\n",
      "\n",
      "\n",
      "SVC\n",
      "                 precision    recall  f1-score   support\n",
      "\n",
      "        arquero       1.00      1.00      1.00       208\n",
      "         ataque       0.85      0.82      0.83       147\n",
      "        central       0.65      0.55      0.59       357\n",
      " central_ataque       0.39      0.53      0.45       142\n",
      "central_defensa       0.19      0.38      0.25        34\n",
      "        defensa       0.89      0.84      0.86       412\n",
      "\n",
      "       accuracy                           0.74      1300\n",
      "      macro avg       0.66      0.69      0.66      1300\n",
      "   weighted avg       0.76      0.74      0.75      1300\n",
      "\n"
     ]
    }
   ],
   "source": [
    "# Métricas de evaluación \n",
    "print(\"Tree\")\n",
    "print(classification_report(y_pred_tree, y_test))\n",
    "print(\"\")\n",
    "\n",
    "print(\"Neigh\")\n",
    "print(classification_report(y_pred_neigh, y_test))\n",
    "print(\"\")\n",
    "\n",
    "print(\"SVC\")\n",
    "print(classification_report(y_pred_svc, y_test))\n"
   ]
  },
  {
   "cell_type": "markdown",
   "metadata": {},
   "source": [
    "# Respuesta"
   ]
  },
  {
   "cell_type": "markdown",
   "metadata": {
    "cell_id": "00037-49e50b09-156f-4996-8fec-1e3e6cf51802",
    "deepnote_cell_type": "markdown",
    "tags": []
   },
   "source": [
    "**A partir de los resultados anteriores, se observan precision, recall y F1 más balanceados para cada clase, esto se asocia a que en esta ocasión existe un mayor balance entre clases. Nuevamente el mejor clasificador es SVM lineal según F1.**\n",
    "\n",
    "**Para mejorar los resultados se recomienda estratificar las clases y usar gridsearch para la selección de hiperparametros.**\n"
   ]
  },
  {
   "cell_type": "markdown",
   "metadata": {
    "cell_id": "00038-b8c6c19d-0688-4899-9abb-c89f94c2b89a",
    "deepnote_cell_type": "markdown",
    "id": "C-vkB4xoOGtM"
   },
   "source": [
    "## 1.3 Predicción de Sueldos [2 puntos]\n",
    "\n",
    "<p align=\"center\">\n",
    "  <img src=\"https://media.giphy.com/media/3oEjHWtHAFcOKS4iA0/giphy.gif\" width=\"460\">\n",
    "</p>"
   ]
  },
  {
   "cell_type": "markdown",
   "metadata": {
    "cell_id": "00039-e50ff971-8882-46be-832a-deaff22bdf89",
    "deepnote_cell_type": "markdown",
    "tags": []
   },
   "source": [
    "Queriendo ahondar aún más en el mercado del balompíe, Renacin, logra obtener (de una manera no muy formal) los sueldos de múltiples futbolistas y los guarda en el archivo ```sueldos.csv```. Con ellos les solicita que generen un regresor que les permita predecir el sueldo de los futbolistas en base a las características de los pichichis, esto, debido a su motivación por invertir y/o realizar especulación sobre los sueldos de jugadores.\n",
    "\n",
    "Renacin es claro señalando que deben seguir utilizando la [guía](https://scikit-learn.org/stable/tutorial/machine_learning_map/index.html) y comenten cada uno de los pasos realizados, para obtener su regresión lineal. Señalándoles que no aceptara un $R^2$ inferior a 0.35 para el modelo solicitado.\n",
    "\n",
    "Para esta parte usted tiene total libertad en la generación del regresor, la unica exigencia es que utilice un pipeline para generar la regresión y utilice la metrica $R^2$ para medir el rendimiento de esta.\n",
    "\n",
    "**To-Do**:\n",
    "\n",
    "- [x] Explique en que consiste la métrica $R^2$\n",
    "- [x] Generar un pipeline para la regresión.\n",
    "- [x] Obtener un regresor con un $R^2$ superior a  $0.35$.\n",
    "- [x] Comente sus resultados y si es posible mejorar los resultados obtenidos. ¿Se necesitarían más datos o otros tipos de características o una combinación de ambos?"
   ]
  },
  {
   "cell_type": "markdown",
   "metadata": {},
   "source": [
    "**La métrica $R^2$ representa el grado de correlación al cuadrado entre la valor real de la variable y el valor de la estimación. Mientras más cercano a 1 mejor será mejor la calidad de la regresión.**"
   ]
  },
  {
   "cell_type": "markdown",
   "metadata": {
    "cell_id": "00040-487b67d5-7731-400d-8fa5-a8fb3b59c7f5",
    "deepnote_cell_type": "markdown",
    "tags": []
   },
   "source": [
    "**Respuesta**"
   ]
  },
  {
   "cell_type": "code",
   "execution_count": 26,
   "metadata": {
    "cell_id": "00041-012da19b-8f64-4971-84d6-e95502b74afb",
    "deepnote_cell_type": "code",
    "tags": []
   },
   "outputs": [],
   "source": [
    "# Lectura\n",
    "\n",
    "df_sueldos = pd.read_csv('salarios.csv').rename(columns={\"Player\":\"Name\"}).drop([\"Unnamed: 0\"],axis=1)\n",
    "\n",
    "# Merge con la información de los players\n",
    "\n",
    "df=pd.merge(left=df_players,\n",
    "         right=df_sueldos,\n",
    "         on=\"Name\",\n",
    "         how=\"inner\",\n",
    "         sort=True)"
   ]
  },
  {
   "cell_type": "markdown",
   "metadata": {},
   "source": [
    "**Se usarán solo variables númericas ya que las variables categoricas confunden al regresor.**"
   ]
  },
  {
   "cell_type": "code",
   "execution_count": 27,
   "metadata": {
    "scrolled": true
   },
   "outputs": [],
   "source": [
    "# Variables númericas\n",
    "integer_features=df.select_dtypes(exclude=\"object\").columns.tolist()\n",
    "integer_features.remove(\"Weekly Salary\")\n",
    "\n",
    "# Columns transformer\n",
    "preprocessing_transformer = ColumnTransformer(\n",
    "    transformers=[\n",
    "        ('StandardScaler', StandardScaler(),\n",
    "         integer_features),\n",
    "    ])"
   ]
  },
  {
   "cell_type": "code",
   "execution_count": 28,
   "metadata": {},
   "outputs": [],
   "source": [
    "# Pipelines Regresor\n",
    "\n",
    "reg_pipe = Pipeline(\n",
    "    [(\"preprocesamiento\", preprocessing_transformer), (\"Linear Reg\", RandomForestRegressor(max_depth=15,\n",
    "                                                                                           max_features=0.6,\n",
    "                                                                                           n_estimators=500,random_state=1))]\n",
    ")"
   ]
  },
  {
   "cell_type": "code",
   "execution_count": 29,
   "metadata": {},
   "outputs": [],
   "source": [
    "# Generación conjunto de train y test\n",
    "\n",
    "features = df.drop(columns=[\"Weekly Salary\"]).copy()\n",
    "\n",
    "labels = df.loc[:, \"Weekly Salary\"].copy()\n",
    "\n",
    "# Generación de conjuntos de train y test\n",
    "X_train, X_test, y_train, y_test = train_test_split(\n",
    "    features, labels, test_size=0.33, shuffle=True\n",
    ")"
   ]
  },
  {
   "cell_type": "code",
   "execution_count": 30,
   "metadata": {},
   "outputs": [
    {
     "data": {
      "text/plain": [
       "Pipeline(steps=[('preprocesamiento',\n",
       "                 ColumnTransformer(transformers=[('StandardScaler',\n",
       "                                                  StandardScaler(),\n",
       "                                                  ['Height', 'Weight', 'Age',\n",
       "                                                   'Weak_foot', 'Skill_Moves',\n",
       "                                                   'Ball_Control', 'Dribbling',\n",
       "                                                   'Marking', 'Sliding_Tackle',\n",
       "                                                   'Standing_Tackle',\n",
       "                                                   'Aggression', 'Reactions',\n",
       "                                                   'Interceptions', 'Vision',\n",
       "                                                   'Composure', 'Crossing',\n",
       "                                                   'Short_Pass', 'Long_Pass',\n",
       "                                                   'Acceleration', 'Speed',\n",
       "                                                   'Stamina', 'Strength',\n",
       "                                                   'Balance', 'Agility',\n",
       "                                                   'Jumping', 'Heading',\n",
       "                                                   'Shot_Power', 'Finishing',\n",
       "                                                   'Long_Shots', 'Curve', ...])])),\n",
       "                ('Linear Reg',\n",
       "                 RandomForestRegressor(max_depth=15, max_features=0.6,\n",
       "                                       n_estimators=500, random_state=1))])"
      ]
     },
     "execution_count": 30,
     "metadata": {},
     "output_type": "execute_result"
    }
   ],
   "source": [
    "# Entrenamiento de pipelines\n",
    "\n",
    "reg_pipe.fit(X_train, y_train)"
   ]
  },
  {
   "cell_type": "code",
   "execution_count": 31,
   "metadata": {},
   "outputs": [],
   "source": [
    "# Generación de predicciones\n",
    "\n",
    "y_pred_reg = reg_pipe.predict(X_test)"
   ]
  },
  {
   "cell_type": "code",
   "execution_count": 32,
   "metadata": {
    "scrolled": true
   },
   "outputs": [
    {
     "data": {
      "text/plain": [
       "0.6429156161929295"
      ]
     },
     "execution_count": 32,
     "metadata": {},
     "output_type": "execute_result"
    }
   ],
   "source": [
    "# Métrica R2\n",
    "r2_score(y_test, y_pred_reg)"
   ]
  },
  {
   "cell_type": "markdown",
   "metadata": {},
   "source": [
    "# Respuesta"
   ]
  },
  {
   "cell_type": "markdown",
   "metadata": {},
   "source": [
    "**Para obtener buenos resultados se tuvieron que eliminar las variables OneHotEnconder ya que confundian al regresor. Primero se probo una regresión lineal pero no se lograron los resultados deseados. Finalmente se opto por un Random forest Regressor.**\n",
    "\n",
    "**Para mejorar los resultados se sugiere realizar una seleccion de variables númericas mas exaustiva y un GridSearch de los hiperparametro del Random Forest.**"
   ]
  },
  {
   "cell_type": "markdown",
   "metadata": {
    "cell_id": "00045-bd3cc055-46c7-47ae-ac82-07ddb96f99de",
    "deepnote_cell_type": "markdown",
    "id": "Rg4ZMq8ezAH6"
   },
   "source": [
    "# Conclusión\n",
    "Eso ha sido todo para el lab de hoy, recuerden que el laboratorio tiene un plazo de entrega de una semana. Cualquier duda del laboratorio, no duden en contactarnos por mail o U-cursos.\n",
    "\n",
    "<p align=\"center\">\n",
    "  <img src=\"https://media2.giphy.com/media/l1J3CbFgn5o7DGRuE/giphy.gif\">\n",
    "</p>"
   ]
  },
  {
   "cell_type": "markdown",
   "metadata": {
    "cell_id": "00047-2acde338-38a4-455c-879b-3be406525767",
    "deepnote_cell_type": "markdown",
    "id": "wCL1lACBzAH7"
   },
   "source": [
    "<br>\n",
    "<center>\n",
    "<img src=\"https://i.kym-cdn.com/photos/images/original/001/194/195/b18.png\" width=100 height=50 />\n",
    "</center>\n",
    "<br>"
   ]
  },
  {
   "cell_type": "markdown",
   "metadata": {
    "created_in_deepnote_cell": true,
    "deepnote_cell_type": "markdown",
    "tags": []
   },
   "source": [
    "<a style='text-decoration:none;line-height:16px;display:flex;color:#5B5B62;padding:10px;justify-content:end;' href='https://deepnote.com?utm_source=created-in-deepnote-cell&projectId=87110296-876e-426f-b91d-aaf681223468' target=\"_blank\">\n",
    "<img alt='Created in deepnote.com' style='display:inline;max-height:16px;margin:0px;margin-right:7.5px;' src='data:image/svg+xml;base64,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' > </img>\n",
    "Created in <span style='font-weight:600;margin-left:4px;'>Deepnote</span></a>"
   ]
  }
 ],
 "metadata": {
  "colab": {
   "collapsed_sections": [],
   "name": "Laboratorio3.ipynb",
   "provenance": []
  },
  "deepnote": {},
  "deepnote_execution_queue": [],
  "deepnote_notebook_id": "350d39d6-937f-44f2-9da5-3b4d715597f9",
  "kernelspec": {
   "display_name": "Python 3 (ipykernel)",
   "language": "python",
   "name": "python3"
  },
  "language_info": {
   "codemirror_mode": {
    "name": "ipython",
    "version": 3
   },
   "file_extension": ".py",
   "mimetype": "text/x-python",
   "name": "python",
   "nbconvert_exporter": "python",
   "pygments_lexer": "ipython3",
   "version": "3.9.6"
  },
  "toc": {
   "base_numbering": 1,
   "nav_menu": {},
   "number_sections": true,
   "sideBar": true,
   "skip_h1_title": true,
   "title_cell": "Tabla de Contenidos",
   "title_sidebar": "Contenidos",
   "toc_cell": false,
   "toc_position": {
    "height": "calc(100% - 180px)",
    "left": "10px",
    "top": "150px",
    "width": "241.867px"
   },
   "toc_section_display": true,
   "toc_window_display": true
  },
  "varInspector": {
   "cols": {
    "lenName": 16,
    "lenType": 16,
    "lenVar": 40
   },
   "kernels_config": {
    "python": {
     "delete_cmd_postfix": "",
     "delete_cmd_prefix": "del ",
     "library": "var_list.py",
     "varRefreshCmd": "print(var_dic_list())"
    },
    "r": {
     "delete_cmd_postfix": ") ",
     "delete_cmd_prefix": "rm(",
     "library": "var_list.r",
     "varRefreshCmd": "cat(var_dic_list()) "
    }
   },
   "types_to_exclude": [
    "module",
    "function",
    "builtin_function_or_method",
    "instance",
    "_Feature"
   ],
   "window_display": false
  }
 },
 "nbformat": 4,
 "nbformat_minor": 1
}
